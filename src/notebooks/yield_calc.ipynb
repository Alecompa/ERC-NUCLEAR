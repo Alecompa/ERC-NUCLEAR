{
 "cells": [
  {
   "cell_type": "code",
   "execution_count": null,
   "metadata": {},
   "outputs": [],
   "source": [
    "import numpy as np\n",
    "import ROOT\n",
    "import modules.analysis as analysis\n",
    "\n",
    "\n",
    "import matplotlib.pyplot as plt\n"
   ]
  },
  {
   "cell_type": "code",
   "execution_count": null,
   "metadata": {},
   "outputs": [],
   "source": [
    "stop_power = np.loadtxt(\"../../data/stopping/helium_in_boron.dat\")\n",
    "cross_section = np.loadtxt(\"../../data/cross_sections/10b_an.cross\")\n",
    "\n",
    "#print( stop_power )\n",
    "#print( cross_section )\n",
    "\n",
    "energies = np.linspace( 300, 400, 100 ) \n",
    "delta_e = 33 # keV \n",
    "\n",
    "yields = []\n",
    "for energy in energies:\n",
    "    yields.append( analysis.calculate_yield( energy, delta_e, cross_section, stop_power ) )\n",
    "\n",
    "#print( yields )"
   ]
  },
  {
   "cell_type": "code",
   "execution_count": null,
   "metadata": {},
   "outputs": [],
   "source": [
    "yield_array = np.array( yields )\n",
    "#set log y\n",
    "plt.yscale('log')\n",
    "plt.plot( energies, yield_array )"
   ]
  },
  {
   "cell_type": "code",
   "execution_count": null,
   "metadata": {},
   "outputs": [],
   "source": []
  }
 ],
 "metadata": {
  "kernelspec": {
   "display_name": "data-analysis",
   "language": "python",
   "name": "python3"
  },
  "language_info": {
   "codemirror_mode": {
    "name": "ipython",
    "version": 3
   },
   "file_extension": ".py",
   "mimetype": "text/x-python",
   "name": "python",
   "nbconvert_exporter": "python",
   "pygments_lexer": "ipython3",
   "version": "3.13.2"
  }
 },
 "nbformat": 4,
 "nbformat_minor": 2
}
